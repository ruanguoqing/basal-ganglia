{
 "cells": [
  {
   "cell_type": "code",
   "execution_count": 1,
   "metadata": {
    "collapsed": false
   },
   "outputs": [],
   "source": [
    "import seaborn as sns\n",
    "import pandas as pd\n",
    "import matplotlib.pyplot as plt\n",
    "\n",
    "from trainer.training_loop import *"
   ]
  },
  {
   "cell_type": "code",
   "execution_count": 2,
   "metadata": {
    "collapsed": true
   },
   "outputs": [
    {
     "name": "stdout",
     "output_type": "stream",
     "text": [
      "\u001b[33mWARN: gym.spaces.Box autodetected dtype as <class 'numpy.float32'>. Please provide explicit dtype.\u001b[0m\nSteps: 0000,\tEpisodes: 0000,\tReward per Episode:15.000000\n"
     ]
    },
    {
     "name": "stdout",
     "output_type": "stream",
     "text": [
      "Steps: 0100,\tEpisodes: 0100,\tReward per Episode:31.480000\n"
     ]
    },
    {
     "name": "stdout",
     "output_type": "stream",
     "text": [
      "Steps: 0200,\tEpisodes: 0200,\tReward per Episode:43.250000\n"
     ]
    },
    {
     "name": "stdout",
     "output_type": "stream",
     "text": [
      "Steps: 0300,\tEpisodes: 0300,\tReward per Episode:72.640000\n"
     ]
    },
    {
     "name": "stdout",
     "output_type": "stream",
     "text": [
      "Steps: 0400,\tEpisodes: 0400,\tReward per Episode:161.940000\n"
     ]
    },
    {
     "name": "stdout",
     "output_type": "stream",
     "text": [
      "Steps: 0500,\tEpisodes: 0500,\tReward per Episode:179.010000\n"
     ]
    },
    {
     "name": "stdout",
     "output_type": "stream",
     "text": [
      "Steps: 0600,\tEpisodes: 0600,\tReward per Episode:187.970000\n"
     ]
    },
    {
     "name": "stdout",
     "output_type": "stream",
     "text": [
      "Steps: 0700,\tEpisodes: 0700,\tReward per Episode:190.450000\n"
     ]
    },
    {
     "name": "stdout",
     "output_type": "stream",
     "text": [
      "Steps: 0800,\tEpisodes: 0800,\tReward per Episode:194.830000\n"
     ]
    },
    {
     "name": "stdout",
     "output_type": "stream",
     "text": [
      "Steps: 0900,\tEpisodes: 0900,\tReward per Episode:195.740000\n"
     ]
    },
    {
     "data": {
      "image/png": "[encoded data removed]",
      "text/plain": [
       "<Figure size 360x360 with 1 Axes>"
      ]
     },
     "metadata": {},
     "output_type": "display_data"
    }
   ],
   "source": [
    "hype = {'Environment Name': 'CartPole-v0',\n",
    "        'Learning Algorithm': 'Reinforce with MC',\n",
    "        'Policy Network': {'Hidden Layer Width': 128},\n",
    "        'Buffer': {'Buffer Length': 1},\n",
    "        'Policy Optimizer': {'Learning Rate': 1e-3},\n",
    "        'Episodes per Step': 1,\n",
    "        'Number of Steps': 10000,\n",
    "        'Regularization Parameter': 0.1,\n",
    "        'Discount': 0.99,\n",
    "        'Log Every': 100,\n",
    "        'Break at Reward': 195}\n",
    "\n",
    "perf_profile = []\n",
    "for (s, e, r) in learn(hype):\n",
    "    print('Steps: %04d,\\tEpisodes: %04d,\\tReward per Episode:%f' % (s, e, r))\n",
    "    perf_profile.append((s, e, r))\n",
    "\n",
    "s, e, r = map(list, zip(*perf_profile))\n",
    "df = pd.DataFrame(dict(episode=e, reward=r))\n",
    "sns.relplot(x='episode', y='reward', data=df, kind='line')\n",
    "plt.show()"
   ]
  },
  {
   "cell_type": "code",
   "execution_count": 3,
   "metadata": {
    "collapsed": true
   },
   "outputs": [
    {
     "name": "stdout",
     "output_type": "stream",
     "text": [
      "\u001b[33mWARN: gym.spaces.Box autodetected dtype as <class 'numpy.float32'>. Please provide explicit dtype.\u001b[0m\nSteps: 0000,\tEpisodes: 0000,\tReward per Episode:15.000000\n"
     ]
    },
    {
     "name": "stdout",
     "output_type": "stream",
     "text": [
      "Steps: 0100,\tEpisodes: 0100,\tReward per Episode:31.480000\n"
     ]
    },
    {
     "name": "stdout",
     "output_type": "stream",
     "text": [
      "Steps: 0200,\tEpisodes: 0200,\tReward per Episode:43.250000\n"
     ]
    },
    {
     "name": "stdout",
     "output_type": "stream",
     "text": [
      "Steps: 0300,\tEpisodes: 0300,\tReward per Episode:72.640000\n"
     ]
    },
    {
     "name": "stdout",
     "output_type": "stream",
     "text": [
      "Steps: 0400,\tEpisodes: 0400,\tReward per Episode:161.940000\n"
     ]
    },
    {
     "name": "stdout",
     "output_type": "stream",
     "text": [
      "Steps: 0500,\tEpisodes: 0500,\tReward per Episode:179.010000\n"
     ]
    },
    {
     "name": "stdout",
     "output_type": "stream",
     "text": [
      "Steps: 0600,\tEpisodes: 0600,\tReward per Episode:187.970000\n"
     ]
    },
    {
     "name": "stdout",
     "output_type": "stream",
     "text": [
      "Steps: 0700,\tEpisodes: 0700,\tReward per Episode:190.450000\n"
     ]
    },
    {
     "name": "stdout",
     "output_type": "stream",
     "text": [
      "Steps: 0800,\tEpisodes: 0800,\tReward per Episode:194.830000\n"
     ]
    },
    {
     "name": "stdout",
     "output_type": "stream",
     "text": [
      "Steps: 0900,\tEpisodes: 0900,\tReward per Episode:195.740000\n"
     ]
    },
    {
     "data": {
      "image/png": "[encoded data removed]",
      "text/plain": [
       "<Figure size 360x360 with 1 Axes>"
      ]
     },
     "metadata": {},
     "output_type": "display_data"
    }
   ],
   "source": [
    "hype = {'Environment Name': 'CartPole-v0',\n",
    "        'Learning Algorithm': 'Reinforce with Advantages',\n",
    "        'Policy Network': {'Hidden Layer Width': 128},\n",
    "        'Value Network': {'Hidden Layer Width': 128},\n",
    "        'Buffer': {'Buffer Length': 1},\n",
    "        'Policy Optimizer': {'Learning Rate': 1e-3},\n",
    "        'Value Optimizer': {'Learning Rate': 1e-3},\n",
    "        'Episodes per Step': 1,\n",
    "        'Number of Steps': 10000,\n",
    "        'Regularization Parameter': 0.1,\n",
    "        'Discount': 0.99,\n",
    "        'Log Every': 100,\n",
    "        'Break at Reward': 195}\n",
    "\n",
    "perf_profile = []\n",
    "for (s, e, r) in learn(hype):\n",
    "    print('Steps: %04d,\\tEpisodes: %04d,\\tReward per Episode:%f' % (s, e, r))\n",
    "    perf_profile.append((s, e, r))\n",
    "\n",
    "s, e, r = map(list, zip(*perf_profile))\n",
    "df = pd.DataFrame(dict(episode=e, reward=r))\n",
    "sns.relplot(x='episode', y='reward', data=df, kind='line')\n",
    "plt.show()\n"
   ]
  },
  {
   "cell_type": "code",
   "execution_count": 4,
   "metadata": {
    "collapsed": false
   },
   "outputs": [],
   "source": [
    ""
   ]
  },
  {
   "cell_type": "code",
   "execution_count": null,
   "metadata": {},
   "outputs": [],
   "source": []
  }
 ],
 "metadata": {
  "kernelspec": {
   "display_name": "Python 2",
   "language": "python",
   "name": "python2"
  },
  "language_info": {
   "codemirror_mode": {
    "name": "ipython",
    "version": 2
   },
   "file_extension": ".py",
   "mimetype": "text/x-python",
   "name": "python",
   "nbconvert_exporter": "python",
   "pygments_lexer": "ipython2",
   "version": "2.7.6"
  }
 },
 "nbformat": 4,
 "nbformat_minor": 0
}
