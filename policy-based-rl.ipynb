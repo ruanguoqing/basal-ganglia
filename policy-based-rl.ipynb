{
 "cells": [
  {
   "cell_type": "code",
   "execution_count": 11,
   "metadata": {
    "collapsed": false
   },
   "outputs": [],
   "source": [
    "import torch.optim as optim\n",
    "import itertools\n",
    "import seaborn as sns\n",
    "import pandas as pd\n",
    "\n",
    "from game import *\n",
    "from replay_buffer import *\n",
    "from policy_network import *\n",
    "from reinforce import *"
   ]
  },
  {
   "cell_type": "code",
   "execution_count": 2,
   "metadata": {
    "collapsed": false
   },
   "outputs": [],
   "source": [
    "def learn(hype):\n",
    "    env = Game(hype['Environment Name'])\n",
    "    replay_buffer = ReplayBuffer(hype['Buffer']['Buffer Length'])\n",
    "    policy_network = PolicyNetwork(env, hype['Policy Network']['Hidden Layer Width'])\n",
    "    opt = optim.Adam(policy_network.logit.parameters(), lr=hype['Optimizer']['Learning Rate'])\n",
    "    \n",
    "    reward_past_few = []\n",
    "    for i_iter in range(hype['Number of Steps']):\n",
    "        trace_eps = env.play_episodes(policy_network.policy, n_eps=hype['Episodes per Step'])\n",
    "        replay_buffer.absorb_trace(trace_eps)\n",
    "        trace_summary = replay_buffer.emit_trace_as_grouped(hype['Discount'])\n",
    "        \n",
    "        reward_past_few.append(sum(trace_summary[2])/hype['Episodes per Step'])\n",
    "        if not i_iter % hype['Log Every']:\n",
    "            reward_run_avg = sum(reward_past_few)/len(reward_past_few)\n",
    "            yield (i_iter, i_iter*hype['Episodes per Step'], reward_run_avg)\n",
    "            if reward_run_avg > hype['Break at Reward']: break\n",
    "            reward_past_few = []\n",
    "        \n",
    "        reinforce_mc_step(policy_network, trace_summary, hype['Regularization Parameter'], opt)"
   ]
  },
  {
   "cell_type": "code",
   "execution_count": 3,
   "metadata": {},
   "outputs": [
    {
     "name": "stdout",
     "output_type": "stream",
     "text": [
      "\u001b[33mWARN: gym.spaces.Box autodetected dtype as <class 'numpy.float32'>. Please provide explicit dtype.\u001b[0m\nSteps:    0,\tEpisodes:    0,\tReward per Episode:12.000000\n"
     ]
    },
    {
     "name": "stdout",
     "output_type": "stream",
     "text": [
      "Steps:  100,\tEpisodes:  100,\tReward per Episode:24.020000\n"
     ]
    },
    {
     "name": "stdout",
     "output_type": "stream",
     "text": [
      "Steps:  200,\tEpisodes:  200,\tReward per Episode:36.240000\n"
     ]
    },
    {
     "name": "stdout",
     "output_type": "stream",
     "text": [
      "Steps:  300,\tEpisodes:  300,\tReward per Episode:55.430000\n"
     ]
    },
    {
     "name": "stdout",
     "output_type": "stream",
     "text": [
      "Steps:  400,\tEpisodes:  400,\tReward per Episode:74.480000\n"
     ]
    },
    {
     "name": "stdout",
     "output_type": "stream",
     "text": [
      "Steps:  500,\tEpisodes:  500,\tReward per Episode:123.000000\n"
     ]
    },
    {
     "name": "stdout",
     "output_type": "stream",
     "text": [
      "Steps:  600,\tEpisodes:  600,\tReward per Episode:137.990000\n"
     ]
    },
    {
     "name": "stdout",
     "output_type": "stream",
     "text": [
      "Steps:  700,\tEpisodes:  700,\tReward per Episode:144.290000\n"
     ]
    },
    {
     "name": "stdout",
     "output_type": "stream",
     "text": [
      "Steps:  800,\tEpisodes:  800,\tReward per Episode:121.920000\n"
     ]
    },
    {
     "name": "stdout",
     "output_type": "stream",
     "text": [
      "Steps:  900,\tEpisodes:  900,\tReward per Episode:145.830000\n"
     ]
    },
    {
     "name": "stdout",
     "output_type": "stream",
     "text": [
      "Steps: 1000,\tEpisodes: 1000,\tReward per Episode:171.980000\n"
     ]
    },
    {
     "name": "stdout",
     "output_type": "stream",
     "text": [
      "Steps: 1100,\tEpisodes: 1100,\tReward per Episode:185.950000\n"
     ]
    },
    {
     "name": "stdout",
     "output_type": "stream",
     "text": [
      "Steps: 1200,\tEpisodes: 1200,\tReward per Episode:191.750000\n"
     ]
    },
    {
     "name": "stdout",
     "output_type": "stream",
     "text": [
      "Steps: 1300,\tEpisodes: 1300,\tReward per Episode:189.330000\n"
     ]
    },
    {
     "name": "stdout",
     "output_type": "stream",
     "text": [
      "Steps: 1400,\tEpisodes: 1400,\tReward per Episode:135.330000\n"
     ]
    },
    {
     "name": "stdout",
     "output_type": "stream",
     "text": [
      "Steps: 1500,\tEpisodes: 1500,\tReward per Episode:140.060000\n"
     ]
    },
    {
     "name": "stdout",
     "output_type": "stream",
     "text": [
      "Steps: 1600,\tEpisodes: 1600,\tReward per Episode:154.180000\n"
     ]
    },
    {
     "name": "stdout",
     "output_type": "stream",
     "text": [
      "Steps: 1700,\tEpisodes: 1700,\tReward per Episode:157.020000\n"
     ]
    },
    {
     "name": "stdout",
     "output_type": "stream",
     "text": [
      "Steps: 1800,\tEpisodes: 1800,\tReward per Episode:127.250000\n"
     ]
    },
    {
     "name": "stdout",
     "output_type": "stream",
     "text": [
      "Steps: 1900,\tEpisodes: 1900,\tReward per Episode:155.890000\n"
     ]
    },
    {
     "name": "stdout",
     "output_type": "stream",
     "text": [
      "Steps: 2000,\tEpisodes: 2000,\tReward per Episode:188.180000\n"
     ]
    },
    {
     "name": "stdout",
     "output_type": "stream",
     "text": [
      "Steps: 2100,\tEpisodes: 2100,\tReward per Episode:117.630000\n"
     ]
    },
    {
     "name": "stdout",
     "output_type": "stream",
     "text": [
      "Steps: 2200,\tEpisodes: 2200,\tReward per Episode:172.050000\n"
     ]
    },
    {
     "name": "stdout",
     "output_type": "stream",
     "text": [
      "Steps: 2300,\tEpisodes: 2300,\tReward per Episode:182.240000\n"
     ]
    },
    {
     "name": "stdout",
     "output_type": "stream",
     "text": [
      "Steps: 2400,\tEpisodes: 2400,\tReward per Episode:176.420000\n"
     ]
    },
    {
     "name": "stdout",
     "output_type": "stream",
     "text": [
      "Steps: 2500,\tEpisodes: 2500,\tReward per Episode:176.210000\n"
     ]
    },
    {
     "name": "stdout",
     "output_type": "stream",
     "text": [
      "Steps: 2600,\tEpisodes: 2600,\tReward per Episode:148.650000\n"
     ]
    },
    {
     "name": "stdout",
     "output_type": "stream",
     "text": [
      "Steps: 2700,\tEpisodes: 2700,\tReward per Episode:145.860000\n"
     ]
    },
    {
     "name": "stdout",
     "output_type": "stream",
     "text": [
      "Steps: 2800,\tEpisodes: 2800,\tReward per Episode:191.720000\n"
     ]
    },
    {
     "name": "stdout",
     "output_type": "stream",
     "text": [
      "Steps: 2900,\tEpisodes: 2900,\tReward per Episode:193.590000\n"
     ]
    },
    {
     "name": "stdout",
     "output_type": "stream",
     "text": [
      "Steps: 3000,\tEpisodes: 3000,\tReward per Episode:143.830000\n"
     ]
    },
    {
     "name": "stdout",
     "output_type": "stream",
     "text": [
      "Steps: 3100,\tEpisodes: 3100,\tReward per Episode:126.590000\n"
     ]
    },
    {
     "name": "stdout",
     "output_type": "stream",
     "text": [
      "Steps: 3200,\tEpisodes: 3200,\tReward per Episode:156.920000\n"
     ]
    },
    {
     "name": "stdout",
     "output_type": "stream",
     "text": [
      "Steps: 3300,\tEpisodes: 3300,\tReward per Episode:183.530000\n"
     ]
    },
    {
     "name": "stdout",
     "output_type": "stream",
     "text": [
      "Steps: 3400,\tEpisodes: 3400,\tReward per Episode:191.580000\n"
     ]
    },
    {
     "name": "stdout",
     "output_type": "stream",
     "text": [
      "Steps: 3500,\tEpisodes: 3500,\tReward per Episode:198.460000\n"
     ]
    }
   ],
   "source": [
    "hype = {'Environment Name': 'CartPole-v0',\n",
    "        'Policy Network': {'Hidden Layer Width': 128},\n",
    "        'Buffer': {'Buffer Length': 1},\n",
    "        'Optimizer': {'Learning Rate': 1e-3},\n",
    "        'Episodes per Step': 1,\n",
    "        'Number of Steps': 10000,\n",
    "        'Regularization Parameter': 0.1,\n",
    "        'Discount': 0.99,\n",
    "        'Log Every': 100,\n",
    "        'Break at Reward': 195}\n",
    "\n",
    "perf_profile = []\n",
    "for (s, e, r) in learn(hype):\n",
    "    print('Steps: %4d,\\tEpisodes: %4d,\\tReward per Episode:%f' % (s, e, r))\n",
    "    perf_profile.append((s,e,r))"
   ]
  },
  {
   "cell_type": "code",
   "execution_count": 14,
   "metadata": {
    "collapsed": false
   },
   "outputs": [
    {
     "data": {
      "text/plain": [
       "<seaborn.axisgrid.FacetGrid at 0x7fb5b2d6cfd0>"
      ]
     },
     "execution_count": 14,
     "metadata": {},
     "output_type": "execute_result"
    },
    {
     "data": {
      "image/png": "[encoded data removed]",
      "text/plain": [
       "<Figure size 360x360 with 1 Axes>"
      ]
     },
     "metadata": {},
     "output_type": "display_data"
    }
   ],
   "source": [
    "s, e, r = map(list, zip(*perf_profile))\n",
    "df = pd.DataFrame(dict(episode=e, reward=r))\n",
    "sns.relplot(x='episode', y='reward', data=df, kind='line')"
   ]
  },
  {
   "cell_type": "code",
   "execution_count": null,
   "metadata": {},
   "outputs": [],
   "source": []
  }
 ],
 "metadata": {
  "kernelspec": {
   "display_name": "Python 2",
   "language": "python",
   "name": "python2"
  },
  "language_info": {
   "codemirror_mode": {
    "name": "ipython",
    "version": 2
   },
   "file_extension": ".py",
   "mimetype": "text/x-python",
   "name": "python",
   "nbconvert_exporter": "python",
   "pygments_lexer": "ipython2",
   "version": "2.7.6"
  }
 },
 "nbformat": 4,
 "nbformat_minor": 0
}
